{
 "cells": [
  {
   "metadata": {},
   "cell_type": "markdown",
   "source": [
    "# Stable Baselines Example\n",
    "\n",
    "Below you can find a minimal setup for using the Graph Matrix Job Shop Environment with StableBaselines3.\n",
    "Since there are valid and invalid action in this environment it is highly recommended to use an agent with action masking.\n",
    "\n",
    "\n"
   ],
   "id": "7ee251b1a7d89526"
  },
  {
   "metadata": {
    "ExecuteTime": {
     "end_time": "2024-09-08T17:52:07.798567Z",
     "start_time": "2024-09-08T17:52:07.795975Z"
    }
   },
   "cell_type": "code",
   "source": [
    "def print_hello():\n",
    "    print(\"Hello, world!\")\n",
    "\n",
    "if __name__ == \"__main__\":\n",
    "    print_hello()"
   ],
   "id": "604d655626c0563d",
   "outputs": [
    {
     "name": "stdout",
     "output_type": "stream",
     "text": [
      "Hello, world!\n"
     ]
    }
   ],
   "execution_count": 3
  },
  {
   "metadata": {
    "ExecuteTime": {
     "end_time": "2024-09-08T17:52:07.802549Z",
     "start_time": "2024-09-08T17:52:07.801140Z"
    }
   },
   "cell_type": "code",
   "source": "",
   "id": "6829fb8910559e28",
   "outputs": [],
   "execution_count": 3
  }
 ],
 "metadata": {
  "kernelspec": {
   "display_name": "Python 3",
   "language": "python",
   "name": "python3"
  },
  "language_info": {
   "codemirror_mode": {
    "name": "ipython",
    "version": 2
   },
   "file_extension": ".py",
   "mimetype": "text/x-python",
   "name": "python",
   "nbconvert_exporter": "python",
   "pygments_lexer": "ipython2",
   "version": "2.7.6"
  }
 },
 "nbformat": 4,
 "nbformat_minor": 5
}
